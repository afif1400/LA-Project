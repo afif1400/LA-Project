{
 "cells": [
  {
   "cell_type": "code",
   "execution_count": 7,
   "metadata": {},
   "outputs": [],
   "source": [
    "from skimage.exposure import rescale_intensity\n",
    "import numpy as np\n",
    "import argparse\n",
    "import cv2"
   ]
  },
  {
   "cell_type": "code",
   "execution_count": 8,
   "metadata": {},
   "outputs": [],
   "source": [
    "def convolve(image, kernel):\n",
    "\t# grab the spatial dimensions of the image, along with\n",
    "\t# the spatial dimensions of the kernel\n",
    "\t(iH, iW) = image.shape[:2]\n",
    "\t(kH, kW) = kernel.shape[:2]\n",
    "\t# allocate memory for the output image, taking care to\n",
    "\t# \"pad\" the borders of the input image so the spatial\n",
    "\t# size (i.e., width and height) are not reduced\n",
    "\tpad = (kW - 1) // 2\n",
    "\timage = cv2.copyMakeBorder(image, pad, pad, pad, pad,\n",
    "\t\tcv2.BORDER_REPLICATE)\n",
    "\toutput = np.zeros((iH, iW), dtype=\"float32\")\n",
    "    # loop over the input image, \"sliding\" the kernel across\n",
    "\t# each (x, y)-coordinate from left-to-right and top to\n",
    "\t# bottom\n",
    "\tfor y in np.arange(pad, iH + pad):\n",
    "\t\tfor x in np.arange(pad, iW + pad):\n",
    "\t\t\t# extract the ROI of the image by extracting the\n",
    "\t\t\t# *center* region of the current (x, y)-coordinates\n",
    "\t\t\t# dimensions\n",
    "\t\t\troi = image[y - pad:y + pad + 1, x - pad:x + pad + 1]\n",
    "\t\t\t# perform the actual convolution by taking the\n",
    "\t\t\t# element-wise multiplicate between the ROI and\n",
    "\t\t\t# the kernel, then summing the matrix\n",
    "\t\t\tk = (roi * kernel).sum()\n",
    "\t\t\t# store the convolved value in the output (x,y)-\n",
    "\t\t\t# coordinate of the output image\n",
    "\t\t\toutput[y - pad, x - pad] = k\n",
    "\t# rescale the output image to be in the range [0, 255]\n",
    "\toutput = rescale_intensity(output, in_range=(0, 255))\n",
    "\toutput = (output * 255).astype(\"uint8\")\n",
    "\t# return the output image\n",
    "\treturn output        "
   ]
  },
  {
   "cell_type": "code",
   "execution_count": 21,
   "metadata": {},
   "outputs": [
    {
     "ename": "KeyError",
     "evalue": "'image'",
     "output_type": "error",
     "traceback": [
      "\u001b[1;31m---------------------------------------------------------------------------\u001b[0m",
      "\u001b[1;31mKeyError\u001b[0m                                  Traceback (most recent call last)",
      "\u001b[1;32m<ipython-input-21-0ec7baad2eea>\u001b[0m in \u001b[0;36m<module>\u001b[1;34m\u001b[0m\n\u001b[0;32m     39\u001b[0m )\n\u001b[0;32m     40\u001b[0m \u001b[1;31m# load the input image and convert it to grayscale\u001b[0m\u001b[1;33m\u001b[0m\u001b[1;33m\u001b[0m\u001b[1;33m\u001b[0m\u001b[0m\n\u001b[1;32m---> 41\u001b[1;33m \u001b[0mimage\u001b[0m \u001b[1;33m=\u001b[0m \u001b[0mcv2\u001b[0m\u001b[1;33m.\u001b[0m\u001b[0mimread\u001b[0m\u001b[1;33m(\u001b[0m\u001b[0margs\u001b[0m\u001b[1;33m[\u001b[0m\u001b[1;34m\"image\"\u001b[0m\u001b[1;33m]\u001b[0m\u001b[1;33m)\u001b[0m\u001b[1;33m\u001b[0m\u001b[1;33m\u001b[0m\u001b[0m\n\u001b[0m\u001b[0;32m     42\u001b[0m \u001b[0mgray\u001b[0m \u001b[1;33m=\u001b[0m \u001b[0mcv2\u001b[0m\u001b[1;33m.\u001b[0m\u001b[0mcvtColor\u001b[0m\u001b[1;33m(\u001b[0m\u001b[0mimage\u001b[0m\u001b[1;33m,\u001b[0m \u001b[0mcv2\u001b[0m\u001b[1;33m.\u001b[0m\u001b[0mCOLOR_BGR2GRAY\u001b[0m\u001b[1;33m)\u001b[0m\u001b[1;33m\u001b[0m\u001b[1;33m\u001b[0m\u001b[0m\n\u001b[0;32m     43\u001b[0m \u001b[1;31m# loop over the kernels\u001b[0m\u001b[1;33m\u001b[0m\u001b[1;33m\u001b[0m\u001b[1;33m\u001b[0m\u001b[0m\n",
      "\u001b[1;31mKeyError\u001b[0m: 'image'"
     ]
    }
   ],
   "source": [
    "\n",
    "# construct the argument parse and parse the arguments\n",
    "ap = argparse.ArgumentParser()\n",
    "ap.add_argument(\"-i\", \"--image\", required=True,help=\"path to the input image\",default=\"E:\\old phone\\WhatsApp Images\\convolu.jpg\")\n",
    "args = vars(ap.parse_args)\n",
    "# construct average blurring kernels used to smooth an image\n",
    "smallBlur = np.ones((7, 7), dtype=\"float\") * (1.0 / (7 * 7))\n",
    "largeBlur = np.ones((21, 21), dtype=\"float\") * (1.0 / (21 * 21))\n",
    "# construct a sharpening filter\n",
    "sharpen = np.array((\n",
    "\t[0, -1, 0],\n",
    "\t[-1, 5, -1],\n",
    "\t[0, -1, 0]), dtype=\"int\")\n",
    "# construct the Laplacian kernel used to detect edge-like\n",
    "# regions of an image\n",
    "laplacian = np.array((\n",
    "\t[0, 1, 0],\n",
    "\t[1, -4, 1],\n",
    "\t[0, 1, 0]), dtype=\"int\")\n",
    "# construct the Sobel x-axis kernel\n",
    "sobelX = np.array((\n",
    "\t[-1, 0, 1],\n",
    "\t[-2, 0, 2],\n",
    "\t[-1, 0, 1]), dtype=\"int\")\n",
    "# construct the Sobel y-axis kernel\n",
    "sobelY = np.array((\n",
    "\t[-1, -2, -1],\n",
    "\t[0, 0, 0],\n",
    "\t[1, 2, 1]), dtype=\"int\")\n",
    "# construct the kernel bank, a list of kernels we're going\n",
    "# to apply using both our custom `convole` function and\n",
    "# OpenCV's `filter2D` function\n",
    "kernelBank = (\n",
    "\t(\"small_blur\", smallBlur),\n",
    "\t(\"large_blur\", largeBlur),\n",
    "\t(\"sharpen\", sharpen),\n",
    "\t(\"laplacian\", laplacian),\n",
    "\t(\"sobel_x\", sobelX),\n",
    "\t(\"sobel_y\", sobelY)\n",
    ")\n",
    "# load the input image and convert it to grayscale\n",
    "image = cv2.imread(args[\"image\"])\n",
    "gray = cv2.cvtColor(image, cv2.COLOR_BGR2GRAY)\n",
    "# loop over the kernels\n",
    "for (kernelName, kernel) in kernelBank:\n",
    "\t# apply the kernel to the grayscale image using both\n",
    "\t# our custom `convole` function and OpenCV's `filter2D`\n",
    "\t# function\n",
    "\tprint(\"[INFO] applying {} kernel\".format(kernelName))\n",
    "\tconvoleOutput = convolve(gray, kernel)\n",
    "\topencvOutput = cv2.filter2D(gray, -1, kernel)\n",
    "\t# show the output images\n",
    "\tcv2.imshow(\"original\", gray)\n",
    "\tcv2.imshow(\"{} - convole\".format(kernelName), convoleOutput)\n",
    "\tcv2.imshow(\"{} - opencv\".format(kernelName), opencvOutput)\n",
    "\tcv2.waitKey(0)\n",
    "\tcv2.destroyAllWindows()"
   ]
  },
  {
   "cell_type": "code",
   "execution_count": null,
   "metadata": {},
   "outputs": [],
   "source": []
  },
  {
   "cell_type": "code",
   "execution_count": null,
   "metadata": {},
   "outputs": [],
   "source": []
  }
 ],
 "metadata": {
  "kernelspec": {
   "display_name": "Python 3",
   "language": "python",
   "name": "python3"
  },
  "language_info": {
   "codemirror_mode": {
    "name": "ipython",
    "version": 3
   },
   "file_extension": ".py",
   "mimetype": "text/x-python",
   "name": "python",
   "nbconvert_exporter": "python",
   "pygments_lexer": "ipython3",
   "version": "3.8.2"
  }
 },
 "nbformat": 4,
 "nbformat_minor": 4
}
